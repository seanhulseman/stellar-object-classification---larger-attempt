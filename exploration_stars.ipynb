{
 "cells": [
  {
   "cell_type": "code",
   "execution_count": 1,
   "metadata": {},
   "outputs": [],
   "source": [
    "import numpy as np\n",
    "import pandas as pd\n",
    "import matplotlib.pyplot as plt\n",
    "import seaborn as sns"
   ]
  },
  {
   "cell_type": "code",
   "execution_count": 2,
   "metadata": {},
   "outputs": [
    {
     "data": {
      "text/html": [
       "<div>\n",
       "<style scoped>\n",
       "    .dataframe tbody tr th:only-of-type {\n",
       "        vertical-align: middle;\n",
       "    }\n",
       "\n",
       "    .dataframe tbody tr th {\n",
       "        vertical-align: top;\n",
       "    }\n",
       "\n",
       "    .dataframe thead th {\n",
       "        text-align: right;\n",
       "    }\n",
       "</style>\n",
       "<table border=\"1\" class=\"dataframe\">\n",
       "  <thead>\n",
       "    <tr style=\"text-align: right;\">\n",
       "      <th></th>\n",
       "      <th>objid</th>\n",
       "      <th>ra</th>\n",
       "      <th>dec</th>\n",
       "      <th>u</th>\n",
       "      <th>g</th>\n",
       "      <th>r</th>\n",
       "      <th>i</th>\n",
       "      <th>z</th>\n",
       "      <th>run</th>\n",
       "      <th>rerun</th>\n",
       "      <th>camcol</th>\n",
       "      <th>field</th>\n",
       "      <th>specobjid</th>\n",
       "      <th>class</th>\n",
       "      <th>redshift</th>\n",
       "      <th>plate</th>\n",
       "      <th>mjd</th>\n",
       "      <th>fiberid</th>\n",
       "    </tr>\n",
       "  </thead>\n",
       "  <tbody>\n",
       "    <tr>\n",
       "      <th>0</th>\n",
       "      <td>1237680311226400971</td>\n",
       "      <td>352.476340</td>\n",
       "      <td>32.083681</td>\n",
       "      <td>19.22127</td>\n",
       "      <td>18.89125</td>\n",
       "      <td>18.77551</td>\n",
       "      <td>18.64375</td>\n",
       "      <td>18.57708</td>\n",
       "      <td>8111</td>\n",
       "      <td>301</td>\n",
       "      <td>4</td>\n",
       "      <td>37</td>\n",
       "      <td>8743832275874240512</td>\n",
       "      <td>QSO</td>\n",
       "      <td>1.653339</td>\n",
       "      <td>7766</td>\n",
       "      <td>58395</td>\n",
       "      <td>340</td>\n",
       "    </tr>\n",
       "    <tr>\n",
       "      <th>1</th>\n",
       "      <td>1237680311227187450</td>\n",
       "      <td>354.438295</td>\n",
       "      <td>32.195653</td>\n",
       "      <td>19.26509</td>\n",
       "      <td>18.22012</td>\n",
       "      <td>17.82656</td>\n",
       "      <td>17.64138</td>\n",
       "      <td>17.58769</td>\n",
       "      <td>8111</td>\n",
       "      <td>301</td>\n",
       "      <td>4</td>\n",
       "      <td>49</td>\n",
       "      <td>8737113155032078336</td>\n",
       "      <td>STAR</td>\n",
       "      <td>-0.000424</td>\n",
       "      <td>7760</td>\n",
       "      <td>58080</td>\n",
       "      <td>472</td>\n",
       "    </tr>\n",
       "    <tr>\n",
       "      <th>2</th>\n",
       "      <td>1237657401336660259</td>\n",
       "      <td>119.622158</td>\n",
       "      <td>30.650825</td>\n",
       "      <td>19.20690</td>\n",
       "      <td>17.57562</td>\n",
       "      <td>16.51169</td>\n",
       "      <td>16.00991</td>\n",
       "      <td>15.63780</td>\n",
       "      <td>2777</td>\n",
       "      <td>301</td>\n",
       "      <td>3</td>\n",
       "      <td>78</td>\n",
       "      <td>1194649389579134976</td>\n",
       "      <td>GALAXY</td>\n",
       "      <td>0.157430</td>\n",
       "      <td>1061</td>\n",
       "      <td>52641</td>\n",
       "      <td>253</td>\n",
       "    </tr>\n",
       "    <tr>\n",
       "      <th>3</th>\n",
       "      <td>1237657401334890829</td>\n",
       "      <td>116.645997</td>\n",
       "      <td>27.560866</td>\n",
       "      <td>18.95453</td>\n",
       "      <td>17.31941</td>\n",
       "      <td>16.45584</td>\n",
       "      <td>16.06454</td>\n",
       "      <td>15.73799</td>\n",
       "      <td>2777</td>\n",
       "      <td>301</td>\n",
       "      <td>3</td>\n",
       "      <td>51</td>\n",
       "      <td>1192374499635390464</td>\n",
       "      <td>GALAXY</td>\n",
       "      <td>0.081241</td>\n",
       "      <td>1059</td>\n",
       "      <td>52618</td>\n",
       "      <td>169</td>\n",
       "    </tr>\n",
       "    <tr>\n",
       "      <th>4</th>\n",
       "      <td>1237657401344983213</td>\n",
       "      <td>137.187349</td>\n",
       "      <td>43.596885</td>\n",
       "      <td>19.19234</td>\n",
       "      <td>17.65800</td>\n",
       "      <td>16.77064</td>\n",
       "      <td>16.33491</td>\n",
       "      <td>16.03147</td>\n",
       "      <td>2777</td>\n",
       "      <td>301</td>\n",
       "      <td>3</td>\n",
       "      <td>205</td>\n",
       "      <td>935790811474323456</td>\n",
       "      <td>GALAXY</td>\n",
       "      <td>0.176956</td>\n",
       "      <td>831</td>\n",
       "      <td>52294</td>\n",
       "      <td>611</td>\n",
       "    </tr>\n",
       "  </tbody>\n",
       "</table>\n",
       "</div>"
      ],
      "text/plain": [
       "                 objid          ra        dec         u         g         r  \\\n",
       "0  1237680311226400971  352.476340  32.083681  19.22127  18.89125  18.77551   \n",
       "1  1237680311227187450  354.438295  32.195653  19.26509  18.22012  17.82656   \n",
       "2  1237657401336660259  119.622158  30.650825  19.20690  17.57562  16.51169   \n",
       "3  1237657401334890829  116.645997  27.560866  18.95453  17.31941  16.45584   \n",
       "4  1237657401344983213  137.187349  43.596885  19.19234  17.65800  16.77064   \n",
       "\n",
       "          i         z   run  rerun  camcol  field            specobjid  \\\n",
       "0  18.64375  18.57708  8111    301       4     37  8743832275874240512   \n",
       "1  17.64138  17.58769  8111    301       4     49  8737113155032078336   \n",
       "2  16.00991  15.63780  2777    301       3     78  1194649389579134976   \n",
       "3  16.06454  15.73799  2777    301       3     51  1192374499635390464   \n",
       "4  16.33491  16.03147  2777    301       3    205   935790811474323456   \n",
       "\n",
       "    class  redshift  plate    mjd  fiberid  \n",
       "0     QSO  1.653339   7766  58395      340  \n",
       "1    STAR -0.000424   7760  58080      472  \n",
       "2  GALAXY  0.157430   1061  52641      253  \n",
       "3  GALAXY  0.081241   1059  52618      169  \n",
       "4  GALAXY  0.176956    831  52294      611  "
      ]
     },
     "execution_count": 2,
     "metadata": {},
     "output_type": "execute_result"
    }
   ],
   "source": [
    "star = pd.read_csv('data/stars_larger.csv',header=1)\n",
    "star.head()"
   ]
  },
  {
   "cell_type": "code",
   "execution_count": 3,
   "metadata": {},
   "outputs": [
    {
     "data": {
      "text/plain": [
       "GALAXY    252025\n",
       "STAR      193385\n",
       "QSO        54590\n",
       "Name: class, dtype: int64"
      ]
     },
     "execution_count": 3,
     "metadata": {},
     "output_type": "execute_result"
    }
   ],
   "source": [
    "# star[\"class\"]=[0 if i == \"GALAXY\" else 1 if i == \"STAR\" else 2 for i in star[\"class\"]]\n",
    "star['class'].value_counts(normalize=False)"
   ]
  },
  {
   "cell_type": "code",
   "execution_count": 5,
   "metadata": {},
   "outputs": [
    {
     "name": "stdout",
     "output_type": "stream",
     "text": [
      "<class 'pandas.core.frame.DataFrame'>\n",
      "RangeIndex: 500000 entries, 0 to 499999\n",
      "Data columns (total 18 columns):\n",
      " #   Column     Non-Null Count   Dtype  \n",
      "---  ------     --------------   -----  \n",
      " 0   objid      500000 non-null  int64  \n",
      " 1   ra         500000 non-null  float64\n",
      " 2   dec        500000 non-null  float64\n",
      " 3   u          500000 non-null  float64\n",
      " 4   g          500000 non-null  float64\n",
      " 5   r          500000 non-null  float64\n",
      " 6   i          500000 non-null  float64\n",
      " 7   z          500000 non-null  float64\n",
      " 8   run        500000 non-null  int64  \n",
      " 9   rerun      500000 non-null  int64  \n",
      " 10  camcol     500000 non-null  int64  \n",
      " 11  field      500000 non-null  int64  \n",
      " 12  specobjid  500000 non-null  uint64 \n",
      " 13  class      500000 non-null  object \n",
      " 14  redshift   500000 non-null  float64\n",
      " 15  plate      500000 non-null  int64  \n",
      " 16  mjd        500000 non-null  int64  \n",
      " 17  fiberid    500000 non-null  int64  \n",
      "dtypes: float64(8), int64(8), object(1), uint64(1)\n",
      "memory usage: 68.7+ MB\n"
     ]
    }
   ],
   "source": [
    "star.info()"
   ]
  },
  {
   "cell_type": "code",
   "execution_count": 7,
   "metadata": {},
   "outputs": [
    {
     "data": {
      "text/plain": [
       "0"
      ]
     },
     "execution_count": 7,
     "metadata": {},
     "output_type": "execute_result"
    }
   ],
   "source": [
    "# check for duplicates\n",
    "star.duplicated().sum()"
   ]
  },
  {
   "cell_type": "code",
   "execution_count": null,
   "metadata": {},
   "outputs": [],
   "source": []
  }
 ],
 "metadata": {
  "kernelspec": {
   "display_name": "base",
   "language": "python",
   "name": "python3"
  },
  "language_info": {
   "codemirror_mode": {
    "name": "ipython",
    "version": 3
   },
   "file_extension": ".py",
   "mimetype": "text/x-python",
   "name": "python",
   "nbconvert_exporter": "python",
   "pygments_lexer": "ipython3",
   "version": "3.11.5"
  }
 },
 "nbformat": 4,
 "nbformat_minor": 2
}
